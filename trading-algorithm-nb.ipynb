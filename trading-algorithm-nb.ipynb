{
 "cells": [
  {
   "cell_type": "code",
   "execution_count": 27,
   "metadata": {},
   "outputs": [],
   "source": [
    "import pandas as pd\n",
    "import pandas_datareader.data as pdr\n",
    "from datetime import datetime\n",
    "import yfinance as yf\n",
    "import numpy as np\n",
    "import talib as tb\n",
    "import numpy as np\n",
    "import matplotlib.pyplot as plt\n",
    "plt.style.use('seaborn')\n",
    "\n",
    "from sklearn.compose import ColumnTransformer\n",
    "from sklearn.ensemble import ExtraTreesRegressor\n",
    "from sklearn.feature_selection import SelectFromModel, SelectKBest, chi2\n",
    "from sklearn.metrics import accuracy_score, precision_score, confusion_matrix, f1_score, roc_auc_score, roc_curve\n",
    "from sklearn.model_selection import train_test_split, RandomizedSearchCV\n",
    "from sklearn.pipeline import Pipeline\n",
    "from sklearn.preprocessing import PolynomialFeatures, OneHotEncoder, StandardScaler\n",
    "\n",
    "from skopt import BayesSearchCV \n",
    "\n",
    "from imblearn.over_sampling import SMOTE\n",
    "from imblearn.pipeline import Pipeline as imbPipeline\n",
    "\n",
    "import xgboost as xgb\n",
    "from code_.backtester import Backtester"
   ]
  },
  {
   "cell_type": "code",
   "execution_count": 2,
   "metadata": {},
   "outputs": [],
   "source": [
    "plt.rcParams['figure.figsize'] = 15, 7"
   ]
  },
  {
   "cell_type": "markdown",
   "metadata": {},
   "source": [
    "# 1. Data Retrieval\n",
    "### Specify query parameters"
   ]
  },
  {
   "cell_type": "code",
   "execution_count": 382,
   "metadata": {},
   "outputs": [],
   "source": [
    "symbol ='BTC-USD'\n",
    "#symbol ='QQQ'\n",
    "\n",
    "start = datetime(2014, 1, 1)\n",
    "end = datetime(2020, 10, 4)"
   ]
  },
  {
   "cell_type": "markdown",
   "metadata": {},
   "source": [
    "### Get data using Yahoo API"
   ]
  },
  {
   "cell_type": "code",
   "execution_count": 383,
   "metadata": {},
   "outputs": [
    {
     "data": {
      "text/html": [
       "<div>\n",
       "<style scoped>\n",
       "    .dataframe tbody tr th:only-of-type {\n",
       "        vertical-align: middle;\n",
       "    }\n",
       "\n",
       "    .dataframe tbody tr th {\n",
       "        vertical-align: top;\n",
       "    }\n",
       "\n",
       "    .dataframe thead th {\n",
       "        text-align: right;\n",
       "    }\n",
       "</style>\n",
       "<table border=\"1\" class=\"dataframe\">\n",
       "  <thead>\n",
       "    <tr style=\"text-align: right;\">\n",
       "      <th></th>\n",
       "      <th>High</th>\n",
       "      <th>Low</th>\n",
       "      <th>Open</th>\n",
       "      <th>Close</th>\n",
       "      <th>Volume</th>\n",
       "      <th>Adj Close</th>\n",
       "    </tr>\n",
       "    <tr>\n",
       "      <th>Date</th>\n",
       "      <th></th>\n",
       "      <th></th>\n",
       "      <th></th>\n",
       "      <th></th>\n",
       "      <th></th>\n",
       "      <th></th>\n",
       "    </tr>\n",
       "  </thead>\n",
       "  <tbody>\n",
       "    <tr>\n",
       "      <th>2014-09-16</th>\n",
       "      <td>468.174011</td>\n",
       "      <td>452.421997</td>\n",
       "      <td>465.864014</td>\n",
       "      <td>457.334015</td>\n",
       "      <td>21056800.0</td>\n",
       "      <td>457.334015</td>\n",
       "    </tr>\n",
       "    <tr>\n",
       "      <th>2014-09-17</th>\n",
       "      <td>456.859985</td>\n",
       "      <td>413.104004</td>\n",
       "      <td>456.859985</td>\n",
       "      <td>424.440002</td>\n",
       "      <td>34483200.0</td>\n",
       "      <td>424.440002</td>\n",
       "    </tr>\n",
       "    <tr>\n",
       "      <th>2014-09-18</th>\n",
       "      <td>427.834991</td>\n",
       "      <td>384.532013</td>\n",
       "      <td>424.102997</td>\n",
       "      <td>394.795990</td>\n",
       "      <td>37919700.0</td>\n",
       "      <td>394.795990</td>\n",
       "    </tr>\n",
       "    <tr>\n",
       "      <th>2014-09-19</th>\n",
       "      <td>423.295990</td>\n",
       "      <td>389.882996</td>\n",
       "      <td>394.673004</td>\n",
       "      <td>408.903992</td>\n",
       "      <td>36863600.0</td>\n",
       "      <td>408.903992</td>\n",
       "    </tr>\n",
       "    <tr>\n",
       "      <th>2014-09-20</th>\n",
       "      <td>412.425995</td>\n",
       "      <td>393.181000</td>\n",
       "      <td>408.084991</td>\n",
       "      <td>398.821014</td>\n",
       "      <td>26580100.0</td>\n",
       "      <td>398.821014</td>\n",
       "    </tr>\n",
       "  </tbody>\n",
       "</table>\n",
       "</div>"
      ],
      "text/plain": [
       "                  High         Low        Open       Close      Volume  \\\n",
       "Date                                                                     \n",
       "2014-09-16  468.174011  452.421997  465.864014  457.334015  21056800.0   \n",
       "2014-09-17  456.859985  413.104004  456.859985  424.440002  34483200.0   \n",
       "2014-09-18  427.834991  384.532013  424.102997  394.795990  37919700.0   \n",
       "2014-09-19  423.295990  389.882996  394.673004  408.903992  36863600.0   \n",
       "2014-09-20  412.425995  393.181000  408.084991  398.821014  26580100.0   \n",
       "\n",
       "             Adj Close  \n",
       "Date                    \n",
       "2014-09-16  457.334015  \n",
       "2014-09-17  424.440002  \n",
       "2014-09-18  394.795990  \n",
       "2014-09-19  408.903992  \n",
       "2014-09-20  398.821014  "
      ]
     },
     "execution_count": 383,
     "metadata": {},
     "output_type": "execute_result"
    }
   ],
   "source": [
    "stock = pdr.get_data_yahoo(symbol, start, end, interval='d')\n",
    "stock.head()"
   ]
  },
  {
   "cell_type": "code",
   "execution_count": 384,
   "metadata": {},
   "outputs": [
    {
     "data": {
      "image/png": "[encoded data removed]",
      "text/plain": [
       "<Figure size 1440x360 with 1 Axes>"
      ]
     },
     "metadata": {},
     "output_type": "display_data"
    }
   ],
   "source": [
    "stock.columns = list(stock.columns.str.lower())\n",
    "stock['volume'] = stock['volume'].astype(float)\n",
    "stock['open'].plot(figsize=(20,5), title=f'{symbol}'), plt.show();"
   ]
  },
  {
   "cell_type": "markdown",
   "metadata": {},
   "source": [
    "### Data Transformation: labelling and TA features"
   ]
  },
  {
   "cell_type": "code",
   "execution_count": 423,
   "metadata": {},
   "outputs": [],
   "source": [
    "#specify forecasting parameters\n",
    "price_change_threshold = 1.06"
   ]
  },
  {
   "cell_type": "code",
   "execution_count": 424,
   "metadata": {},
   "outputs": [],
   "source": [
    "def classify(current, future):\n",
    "\n",
    "    if float(future) > float(current*price_change_threshold):  # if the future price is SUFFICIENTLY higher than the current, that's a buy, or a 1\n",
    "        return 1\n",
    "    else:  # otherwise... it's a 0!\n",
    "        return 0   \n",
    "    \n",
    "def label_data(data, future_periods):\n",
    "\n",
    "    data['future'] = data[\"high\"].shift(-future_periods)\n",
    "    data['target'] = list(map(classify, data[\"high\"], data['future']))\n",
    "    return data\n",
    "\n",
    "class ColumnExtractor(object):\n",
    "    def __init__(self, columns=None):\n",
    "        self.columns = columns\n",
    "        \n",
    "    def fit(self, X, y=None):\n",
    "        return self\n",
    "    \n",
    "    def transform(self, X):\n",
    "        X_cols = X[self.columns]\n",
    "        return X_cols"
   ]
  },
  {
   "cell_type": "code",
   "execution_count": 425,
   "metadata": {},
   "outputs": [],
   "source": [
    "labelled_data = label_data(stock, 1)"
   ]
  },
  {
   "cell_type": "code",
   "execution_count": 426,
   "metadata": {},
   "outputs": [
    {
     "data": {
      "text/html": [
       "<div>\n",
       "<style scoped>\n",
       "    .dataframe tbody tr th:only-of-type {\n",
       "        vertical-align: middle;\n",
       "    }\n",
       "\n",
       "    .dataframe tbody tr th {\n",
       "        vertical-align: top;\n",
       "    }\n",
       "\n",
       "    .dataframe thead th {\n",
       "        text-align: right;\n",
       "    }\n",
       "</style>\n",
       "<table border=\"1\" class=\"dataframe\">\n",
       "  <thead>\n",
       "    <tr style=\"text-align: right;\">\n",
       "      <th></th>\n",
       "      <th>high</th>\n",
       "      <th>low</th>\n",
       "      <th>open</th>\n",
       "      <th>close</th>\n",
       "      <th>volume</th>\n",
       "      <th>adj close</th>\n",
       "      <th>future</th>\n",
       "    </tr>\n",
       "    <tr>\n",
       "      <th>target</th>\n",
       "      <th></th>\n",
       "      <th></th>\n",
       "      <th></th>\n",
       "      <th></th>\n",
       "      <th></th>\n",
       "      <th></th>\n",
       "      <th></th>\n",
       "    </tr>\n",
       "  </thead>\n",
       "  <tbody>\n",
       "    <tr>\n",
       "      <th>0</th>\n",
       "      <td>2104</td>\n",
       "      <td>2104</td>\n",
       "      <td>2104</td>\n",
       "      <td>2104</td>\n",
       "      <td>2104</td>\n",
       "      <td>2104</td>\n",
       "      <td>2103</td>\n",
       "    </tr>\n",
       "    <tr>\n",
       "      <th>1</th>\n",
       "      <td>106</td>\n",
       "      <td>106</td>\n",
       "      <td>106</td>\n",
       "      <td>106</td>\n",
       "      <td>106</td>\n",
       "      <td>106</td>\n",
       "      <td>106</td>\n",
       "    </tr>\n",
       "  </tbody>\n",
       "</table>\n",
       "</div>"
      ],
      "text/plain": [
       "        high   low  open  close  volume  adj close  future\n",
       "target                                                    \n",
       "0       2104  2104  2104   2104    2104       2104    2103\n",
       "1        106   106   106    106     106        106     106"
      ]
     },
     "execution_count": 426,
     "metadata": {},
     "output_type": "execute_result"
    }
   ],
   "source": [
    "#check class imbalance\n",
    "labelled_data.groupby('target').count()"
   ]
  },
  {
   "cell_type": "code",
   "execution_count": 427,
   "metadata": {},
   "outputs": [],
   "source": [
    "#Technical features\n",
    "high = labelled_data['high'].values\n",
    "low = labelled_data['low'].values\n",
    "volume = labelled_data['volume'].values\n",
    "# define the technical analysis matrix\n",
    "retn = np.array([\n",
    "    tb.MA(high, timeperiod=5),                                         # 1\n",
    "    tb.MA(high, timeperiod=10),                                        # 2\n",
    "    tb.MA(high, timeperiod=20),                                        # 3\n",
    "    tb.MA(high, timeperiod=60),                                        # 4\n",
    "    tb.MA(high, timeperiod=90),                                        # 5\n",
    "    tb.MA(high, timeperiod=120),                                       # 6\n",
    "\n",
    "    tb.MACD(high, fastperiod=12, slowperiod=26, signalperiod=9)[0],    # 9\n",
    "    tb.RSI(high, timeperiod=14),                                       # 10\n",
    "\n",
    "    tb.BBANDS(high, timeperiod=5, nbdevup=2, nbdevdn=2, matype=0)[0],  # 11\n",
    "    tb.BBANDS(high, timeperiod=5, nbdevup=2, nbdevdn=2, matype=0)[1],  # 12\n",
    "    tb.BBANDS(high, timeperiod=5, nbdevup=2, nbdevdn=2, matype=0)[2]\n",
    "\n",
    "]).T\n",
    "\n",
    "retdf = pd.DataFrame(retn)\n",
    "retdf['date'] = labelled_data.index.values\n",
    "retdf.set_index('date', inplace=True)\n",
    "expanded_data = labelled_data.join(retdf)"
   ]
  },
  {
   "cell_type": "code",
   "execution_count": 428,
   "metadata": {},
   "outputs": [],
   "source": [
    "#additional features\n",
    "expanded_data['high_delta'] = expanded_data['high'].pct_change()\n",
    "expanded_data['vol_delta'] = expanded_data['volume'].pct_change()\n",
    "expanded_data = expanded_data.replace([np.inf, -np.inf], np.nan).dropna()"
   ]
  },
  {
   "cell_type": "code",
   "execution_count": 429,
   "metadata": {},
   "outputs": [],
   "source": [
    "X = expanded_data.drop(['future', 'target'], axis=1)\n",
    "X.columns = [str(col) for col in X.columns]\n",
    "y = expanded_data['target']"
   ]
  },
  {
   "cell_type": "markdown",
   "metadata": {},
   "source": [
    "# 2. Modelling"
   ]
  },
  {
   "cell_type": "code",
   "execution_count": 430,
   "metadata": {},
   "outputs": [],
   "source": [
    "#Split the given training data further so as to validate performance\n",
    "X_train, X_test, y_train, y_test = train_test_split(X, \n",
    "                                                    y, \n",
    "                                                    random_state=0,\n",
    "                                                    shuffle=False,\n",
    "                                                    test_size=0.15\n",
    "                                            )\n",
    "\n",
    "#specify numeric features\n",
    "numerical_features = X.columns"
   ]
  },
  {
   "cell_type": "code",
   "execution_count": 431,
   "metadata": {},
   "outputs": [],
   "source": [
    "#numeric transformations\n",
    "numeric_transformer = Pipeline(steps=[\n",
    "    ('extract', ColumnExtractor(columns=numerical_features)),\n",
    "    ('poly', PolynomialFeatures(degree=2, interaction_only=True))\n",
    "])\n",
    "\n",
    "#categorical transformations\n",
    "# categorical_transformer = Pipeline(steps=[\n",
    "#     ('onehot', OneHotEncoder(handle_unknown='ignore'))\n",
    "# ])\n",
    "\n",
    "#package transformations into another pipe\n",
    "preprocessor = ColumnTransformer(\n",
    "    transformers=[\n",
    "        ('num', numeric_transformer, numerical_features)\n",
    "    ])\n",
    "\n",
    "#define feature selection strategy\n",
    "clf = ExtraTreesRegressor(n_estimators=100)\n",
    "reducer = SelectFromModel(clf)\n",
    "\n",
    "#scaler\n",
    "scaler = StandardScaler()\n",
    "\n",
    "#sampler, if there is significant class imbalance\n",
    "sampler = SMOTE()\n",
    "\n",
    "#estimator\n",
    "class_imbalance_weighting = round(len(y_train) / y_train.sum())\n",
    "estimator = xgb.XGBRFClassifier(no_omp=1,\n",
    "                                objective='binary:logistic',\n",
    "                                eval_metric='aucpr',\n",
    "                                scale_pos_weight=class_imbalance_weighting)\n",
    "\n",
    "#pack it up\n",
    "mdl = imbPipeline(steps=[('preprocessor', preprocessor),\n",
    "                         ('reducer', reducer),\n",
    "                         ('scaler', scaler),\n",
    "                         #('sampler', sampler),\n",
    "                         ('estimator', estimator)])"
   ]
  },
  {
   "cell_type": "markdown",
   "metadata": {},
   "source": [
    "### Tune hyperparameters"
   ]
  },
  {
   "cell_type": "code",
   "execution_count": 432,
   "metadata": {
    "scrolled": true
   },
   "outputs": [
    {
     "name": "stdout",
     "output_type": "stream",
     "text": [
      "Fitting 4 folds for each of 1 candidates, totalling 4 fits\n"
     ]
    },
    {
     "name": "stderr",
     "output_type": "stream",
     "text": [
      "[Parallel(n_jobs=-1)]: Using backend LokyBackend with 4 concurrent workers.\n",
      "[Parallel(n_jobs=-1)]: Done   2 out of   4 | elapsed:    4.4s remaining:    4.4s\n",
      "[Parallel(n_jobs=-1)]: Done   4 out of   4 | elapsed:    5.2s finished\n",
      "[Parallel(n_jobs=-1)]: Using backend LokyBackend with 4 concurrent workers.\n"
     ]
    },
    {
     "name": "stdout",
     "output_type": "stream",
     "text": [
      "Fitting 4 folds for each of 1 candidates, totalling 4 fits\n"
     ]
    },
    {
     "name": "stderr",
     "output_type": "stream",
     "text": [
      "[Parallel(n_jobs=-1)]: Done   2 out of   4 | elapsed:    3.0s remaining:    3.0s\n",
      "[Parallel(n_jobs=-1)]: Done   4 out of   4 | elapsed:    3.7s finished\n",
      "[Parallel(n_jobs=-1)]: Using backend LokyBackend with 4 concurrent workers.\n"
     ]
    },
    {
     "name": "stdout",
     "output_type": "stream",
     "text": [
      "Fitting 4 folds for each of 1 candidates, totalling 4 fits\n"
     ]
    },
    {
     "name": "stderr",
     "output_type": "stream",
     "text": [
      "[Parallel(n_jobs=-1)]: Done   2 out of   4 | elapsed:    2.3s remaining:    2.3s\n",
      "[Parallel(n_jobs=-1)]: Done   4 out of   4 | elapsed:    2.8s finished\n",
      "[Parallel(n_jobs=-1)]: Using backend LokyBackend with 4 concurrent workers.\n"
     ]
    },
    {
     "name": "stdout",
     "output_type": "stream",
     "text": [
      "Fitting 4 folds for each of 1 candidates, totalling 4 fits\n"
     ]
    },
    {
     "name": "stderr",
     "output_type": "stream",
     "text": [
      "[Parallel(n_jobs=-1)]: Done   2 out of   4 | elapsed:    3.7s remaining:    3.7s\n",
      "[Parallel(n_jobs=-1)]: Done   4 out of   4 | elapsed:    4.5s finished\n",
      "[Parallel(n_jobs=-1)]: Using backend LokyBackend with 4 concurrent workers.\n"
     ]
    },
    {
     "name": "stdout",
     "output_type": "stream",
     "text": [
      "Fitting 4 folds for each of 1 candidates, totalling 4 fits\n"
     ]
    },
    {
     "name": "stderr",
     "output_type": "stream",
     "text": [
      "[Parallel(n_jobs=-1)]: Done   2 out of   4 | elapsed:    2.4s remaining:    2.4s\n",
      "[Parallel(n_jobs=-1)]: Done   4 out of   4 | elapsed:    2.9s finished\n",
      "[Parallel(n_jobs=-1)]: Using backend LokyBackend with 4 concurrent workers.\n"
     ]
    },
    {
     "name": "stdout",
     "output_type": "stream",
     "text": [
      "Fitting 4 folds for each of 1 candidates, totalling 4 fits\n"
     ]
    },
    {
     "name": "stderr",
     "output_type": "stream",
     "text": [
      "[Parallel(n_jobs=-1)]: Done   2 out of   4 | elapsed:    3.7s remaining:    3.7s\n",
      "[Parallel(n_jobs=-1)]: Done   4 out of   4 | elapsed:    4.2s finished\n",
      "[Parallel(n_jobs=-1)]: Using backend LokyBackend with 4 concurrent workers.\n"
     ]
    },
    {
     "name": "stdout",
     "output_type": "stream",
     "text": [
      "Fitting 4 folds for each of 1 candidates, totalling 4 fits\n"
     ]
    },
    {
     "name": "stderr",
     "output_type": "stream",
     "text": [
      "[Parallel(n_jobs=-1)]: Done   2 out of   4 | elapsed:    3.1s remaining:    3.1s\n",
      "[Parallel(n_jobs=-1)]: Done   4 out of   4 | elapsed:    3.6s finished\n",
      "[Parallel(n_jobs=-1)]: Using backend LokyBackend with 4 concurrent workers.\n"
     ]
    },
    {
     "name": "stdout",
     "output_type": "stream",
     "text": [
      "Fitting 4 folds for each of 1 candidates, totalling 4 fits\n"
     ]
    },
    {
     "name": "stderr",
     "output_type": "stream",
     "text": [
      "[Parallel(n_jobs=-1)]: Done   2 out of   4 | elapsed:    3.1s remaining:    3.1s\n",
      "[Parallel(n_jobs=-1)]: Done   4 out of   4 | elapsed:    3.7s finished\n",
      "[Parallel(n_jobs=-1)]: Using backend LokyBackend with 4 concurrent workers.\n"
     ]
    },
    {
     "name": "stdout",
     "output_type": "stream",
     "text": [
      "Fitting 4 folds for each of 1 candidates, totalling 4 fits\n"
     ]
    },
    {
     "name": "stderr",
     "output_type": "stream",
     "text": [
      "[Parallel(n_jobs=-1)]: Done   2 out of   4 | elapsed:    3.1s remaining:    3.1s\n",
      "[Parallel(n_jobs=-1)]: Done   4 out of   4 | elapsed:    3.7s finished\n"
     ]
    },
    {
     "name": "stdout",
     "output_type": "stream",
     "text": [
      "Fitting 4 folds for each of 1 candidates, totalling 4 fits\n"
     ]
    },
    {
     "name": "stderr",
     "output_type": "stream",
     "text": [
      "[Parallel(n_jobs=-1)]: Using backend LokyBackend with 4 concurrent workers.\n",
      "[Parallel(n_jobs=-1)]: Done   2 out of   4 | elapsed:    3.4s remaining:    3.4s\n",
      "[Parallel(n_jobs=-1)]: Done   4 out of   4 | elapsed:    4.0s finished\n"
     ]
    },
    {
     "data": {
      "text/plain": [
       "BayesSearchCV(cv=4,\n",
       "              estimator=Pipeline(steps=[('preprocessor',\n",
       "                                         ColumnTransformer(transformers=[('num',\n",
       "                                                                          Pipeline(steps=[('extract',\n",
       "                                                                                           <__main__.ColumnExtractor object at 0x0000026406BBA548>),\n",
       "                                                                                          ('poly',\n",
       "                                                                                           PolynomialFeatures(interaction_only=True))]),\n",
       "                                                                          Index(['high', 'low', 'open', 'close', 'volume', 'adj close', '0', '1', '2',\n",
       "       '3', '4', '5', '6', '7', '8', '9', '10', 'high_delta', 'vo...\n",
       "              n_iter=10, n_jobs=-1, scoring='average_precision',\n",
       "              search_spaces={'estimator__colsample_bytree': (0.01, 1.0,\n",
       "                                                             'uniform'),\n",
       "                             'estimator__gamma': (1e-09, 0.5, 'log-uniform'),\n",
       "                             'estimator__learning_rate': (0.01, 1.0,\n",
       "                                                          'log-uniform'),\n",
       "                             'estimator__max_delta_step': (2, 20),\n",
       "                             'estimator__max_depth': (2, 50),\n",
       "                             'estimator__min_child_weight': (0.1, 10),\n",
       "                             'estimator__n_estimators': (100, 150)},\n",
       "              verbose=1)"
      ]
     },
     "execution_count": 432,
     "metadata": {},
     "output_type": "execute_result"
    }
   ],
   "source": [
    "#Define search space\n",
    "# n_estimators = [int(x) for x in np.linspace(start=200, stop=1000, num=10)]\n",
    "# max_depth = [int(x) for x in np.linspace(4, 20, num=10)]\n",
    "# learning_rate = [float(x) for x in np.linspace(start=0.005, stop=0.1, num=10)]\n",
    "# gamma = [float(x) for x in np.linspace(start=0, stop=0.4, num=10)]\n",
    "# min_child_weight = [float(x) for x in np.linspace(start=0, stop=10, num=10)]\n",
    "# colsample_by_tree = [0.3, 0.5, 0.7, 1]\n",
    "\n",
    "#Using small search space for debugging\n",
    "param_grid  = {\n",
    "                'estimator__learning_rate': (0.01, 1.0, 'log-uniform'),\n",
    "                'estimator__min_child_weight': (0.1, 10),\n",
    "                'estimator__max_depth': (2, 50),\n",
    "                'estimator__max_delta_step': (2, 20),\n",
    "                'estimator__colsample_bytree': (0.01, 1.0, 'uniform'),\n",
    "                'estimator__gamma': (1e-9, 0.5, 'log-uniform'),\n",
    "                'estimator__n_estimators': (100, 150)\n",
    "}\n",
    "\n",
    "tuner = BayesSearchCV(estimator=mdl,\n",
    "                      search_spaces=param_grid,\n",
    "                      n_iter=10,\n",
    "                      cv=4,\n",
    "                      scoring='average_precision',\n",
    "                      n_jobs=-1,\n",
    "                      verbose=1)\n",
    "\n",
    "tuner.fit(X_train, y_train)"
   ]
  },
  {
   "cell_type": "markdown",
   "metadata": {},
   "source": [
    "#### Evaluate model"
   ]
  },
  {
   "cell_type": "code",
   "execution_count": 433,
   "metadata": {},
   "outputs": [
    {
     "name": "stdout",
     "output_type": "stream",
     "text": [
      "overall_acc: 0.8924050632911392\n",
      "precision: 0.11764705882352941\n",
      "F1: 0.19047619047619047\n"
     ]
    }
   ],
   "source": [
    "y_pred = tuner.predict(X_test)\n",
    "\n",
    "print(f'overall_acc: {accuracy_score(y_test, y_pred)}')\n",
    "print(f'precision: {precision_score(y_test, y_pred)}')\n",
    "print(f'F1: {f1_score(y_test, y_pred)}')"
   ]
  },
  {
   "cell_type": "code",
   "execution_count": 434,
   "metadata": {},
   "outputs": [
    {
     "data": {
      "text/plain": [
       "OrderedDict([('estimator__colsample_bytree', 0.0389230627202187),\n",
       "             ('estimator__gamma', 0.3611933611331183),\n",
       "             ('estimator__learning_rate', 0.014824374316438115),\n",
       "             ('estimator__max_delta_step', 12),\n",
       "             ('estimator__max_depth', 19),\n",
       "             ('estimator__min_child_weight', 6.697038757160592),\n",
       "             ('estimator__n_estimators', 141)])"
      ]
     },
     "execution_count": 434,
     "metadata": {},
     "output_type": "execute_result"
    }
   ],
   "source": [
    "tuner.best_params_"
   ]
  },
  {
   "cell_type": "code",
   "execution_count": 435,
   "metadata": {},
   "outputs": [
    {
     "data": {
      "image/png": "[encoded data removed]",
      "text/plain": [
       "<Figure size 1080x504 with 1 Axes>"
      ]
     },
     "metadata": {},
     "output_type": "display_data"
    }
   ],
   "source": [
    "y_pred_proba = tuner.predict_proba(X_test)[::,1]\n",
    "\n",
    "fpr, tpr, _ = roc_curve(y_test,  y_pred_proba)\n",
    "auc = roc_auc_score(y_test, y_pred_proba)\n",
    "plt.plot(fpr,tpr,label=\"auc=\"+str(auc))\n",
    "ident = [0.0, 1.0]\n",
    "plt.plot(ident,ident, linestyle='--', alpha=0.5)\n",
    "plt.legend(loc=4)\n",
    "plt.show()"
   ]
  },
  {
   "cell_type": "code",
   "execution_count": 436,
   "metadata": {
    "scrolled": true
   },
   "outputs": [
    {
     "data": {
      "text/html": [
       "<div>\n",
       "<style scoped>\n",
       "    .dataframe tbody tr th:only-of-type {\n",
       "        vertical-align: middle;\n",
       "    }\n",
       "\n",
       "    .dataframe tbody tr th {\n",
       "        vertical-align: top;\n",
       "    }\n",
       "\n",
       "    .dataframe thead th {\n",
       "        text-align: right;\n",
       "    }\n",
       "</style>\n",
       "<table border=\"1\" class=\"dataframe\">\n",
       "  <thead>\n",
       "    <tr style=\"text-align: right;\">\n",
       "      <th></th>\n",
       "      <th>y_test</th>\n",
       "      <th>y_pred</th>\n",
       "    </tr>\n",
       "  </thead>\n",
       "  <tbody>\n",
       "    <tr>\n",
       "      <th>2019-11-25</th>\n",
       "      <td>0</td>\n",
       "      <td>0</td>\n",
       "    </tr>\n",
       "    <tr>\n",
       "      <th>2019-11-26</th>\n",
       "      <td>0</td>\n",
       "      <td>0</td>\n",
       "    </tr>\n",
       "    <tr>\n",
       "      <th>2019-11-27</th>\n",
       "      <td>0</td>\n",
       "      <td>0</td>\n",
       "    </tr>\n",
       "    <tr>\n",
       "      <th>2019-11-28</th>\n",
       "      <td>0</td>\n",
       "      <td>0</td>\n",
       "    </tr>\n",
       "    <tr>\n",
       "      <th>2019-11-29</th>\n",
       "      <td>0</td>\n",
       "      <td>0</td>\n",
       "    </tr>\n",
       "  </tbody>\n",
       "</table>\n",
       "</div>"
      ],
      "text/plain": [
       "            y_test  y_pred\n",
       "2019-11-25       0       0\n",
       "2019-11-26       0       0\n",
       "2019-11-27       0       0\n",
       "2019-11-28       0       0\n",
       "2019-11-29       0       0"
      ]
     },
     "execution_count": 436,
     "metadata": {},
     "output_type": "execute_result"
    }
   ],
   "source": [
    "y_comparisons = pd.DataFrame()\n",
    "y_comparisons['y_test'] = y_test\n",
    "y_comparisons['y_pred'] = y_pred\n",
    "\n",
    "y_comparisons.head()"
   ]
  },
  {
   "cell_type": "code",
   "execution_count": 437,
   "metadata": {},
   "outputs": [
    {
     "data": {
      "text/html": [
       "<div>\n",
       "<style scoped>\n",
       "    .dataframe tbody tr th:only-of-type {\n",
       "        vertical-align: middle;\n",
       "    }\n",
       "\n",
       "    .dataframe tbody tr th {\n",
       "        vertical-align: top;\n",
       "    }\n",
       "\n",
       "    .dataframe thead th {\n",
       "        text-align: right;\n",
       "    }\n",
       "</style>\n",
       "<table border=\"1\" class=\"dataframe\">\n",
       "  <thead>\n",
       "    <tr style=\"text-align: right;\">\n",
       "      <th></th>\n",
       "      <th>open</th>\n",
       "      <th>high</th>\n",
       "      <th>low</th>\n",
       "      <th>close</th>\n",
       "      <th>volume</th>\n",
       "      <th>y_test</th>\n",
       "      <th>y_pred</th>\n",
       "    </tr>\n",
       "  </thead>\n",
       "  <tbody>\n",
       "    <tr>\n",
       "      <th>2019-11-25</th>\n",
       "      <td>7039.977051</td>\n",
       "      <td>7319.856934</td>\n",
       "      <td>6617.166992</td>\n",
       "      <td>7146.133789</td>\n",
       "      <td>4.268523e+10</td>\n",
       "      <td>0</td>\n",
       "      <td>0</td>\n",
       "    </tr>\n",
       "    <tr>\n",
       "      <th>2019-11-26</th>\n",
       "      <td>7145.159180</td>\n",
       "      <td>7320.230469</td>\n",
       "      <td>7098.572266</td>\n",
       "      <td>7218.371094</td>\n",
       "      <td>2.112951e+10</td>\n",
       "      <td>0</td>\n",
       "      <td>0</td>\n",
       "    </tr>\n",
       "    <tr>\n",
       "      <th>2019-11-27</th>\n",
       "      <td>7220.880859</td>\n",
       "      <td>7619.693359</td>\n",
       "      <td>6974.174316</td>\n",
       "      <td>7531.663574</td>\n",
       "      <td>2.399141e+10</td>\n",
       "      <td>0</td>\n",
       "      <td>0</td>\n",
       "    </tr>\n",
       "    <tr>\n",
       "      <th>2019-11-28</th>\n",
       "      <td>7536.820312</td>\n",
       "      <td>7730.072754</td>\n",
       "      <td>7454.121582</td>\n",
       "      <td>7463.105957</td>\n",
       "      <td>1.905012e+10</td>\n",
       "      <td>0</td>\n",
       "      <td>0</td>\n",
       "    </tr>\n",
       "    <tr>\n",
       "      <th>2019-11-29</th>\n",
       "      <td>7466.727051</td>\n",
       "      <td>7781.179688</td>\n",
       "      <td>7460.756348</td>\n",
       "      <td>7761.243652</td>\n",
       "      <td>1.970970e+10</td>\n",
       "      <td>0</td>\n",
       "      <td>0</td>\n",
       "    </tr>\n",
       "  </tbody>\n",
       "</table>\n",
       "</div>"
      ],
      "text/plain": [
       "                   open         high          low        close        volume  \\\n",
       "2019-11-25  7039.977051  7319.856934  6617.166992  7146.133789  4.268523e+10   \n",
       "2019-11-26  7145.159180  7320.230469  7098.572266  7218.371094  2.112951e+10   \n",
       "2019-11-27  7220.880859  7619.693359  6974.174316  7531.663574  2.399141e+10   \n",
       "2019-11-28  7536.820312  7730.072754  7454.121582  7463.105957  1.905012e+10   \n",
       "2019-11-29  7466.727051  7781.179688  7460.756348  7761.243652  1.970970e+10   \n",
       "\n",
       "            y_test  y_pred  \n",
       "2019-11-25       0       0  \n",
       "2019-11-26       0       0  \n",
       "2019-11-27       0       0  \n",
       "2019-11-28       0       0  \n",
       "2019-11-29       0       0  "
      ]
     },
     "execution_count": 437,
     "metadata": {},
     "output_type": "execute_result"
    }
   ],
   "source": [
    "#join prediction data to price and date data\n",
    "#index_name = 'Date'\n",
    "index_name = 'index'\n",
    "\n",
    "historical_price_prediction_data = (pd.merge(X_test, expanded_data.reset_index()[[index_name, 'open', 'high', 'low', 'close', 'volume']],\n",
    "                                            how='inner',\n",
    "                                            on=['open', 'high', 'low', 'close', 'volume'])\n",
    "                                     .set_index(index_name))\n",
    "\n",
    "historical_price_prediction_data = historical_price_prediction_data.join(y_comparisons, how='inner')[['open', 'high', 'low', 'close', 'volume', 'y_test', 'y_pred']]\n",
    "historical_price_prediction_data.sort_index(inplace=True)\n",
    "historical_price_prediction_data.head()"
   ]
  },
  {
   "cell_type": "code",
   "execution_count": 438,
   "metadata": {},
   "outputs": [
    {
     "data": {
      "text/html": [
       "<div>\n",
       "<style scoped>\n",
       "    .dataframe tbody tr th:only-of-type {\n",
       "        vertical-align: middle;\n",
       "    }\n",
       "\n",
       "    .dataframe tbody tr th {\n",
       "        vertical-align: top;\n",
       "    }\n",
       "\n",
       "    .dataframe thead th {\n",
       "        text-align: right;\n",
       "    }\n",
       "</style>\n",
       "<table border=\"1\" class=\"dataframe\">\n",
       "  <thead>\n",
       "    <tr style=\"text-align: right;\">\n",
       "      <th></th>\n",
       "      <th>open</th>\n",
       "      <th>high</th>\n",
       "      <th>low</th>\n",
       "      <th>close</th>\n",
       "      <th>volume</th>\n",
       "      <th>y_test</th>\n",
       "    </tr>\n",
       "    <tr>\n",
       "      <th>y_pred</th>\n",
       "      <th></th>\n",
       "      <th></th>\n",
       "      <th></th>\n",
       "      <th></th>\n",
       "      <th></th>\n",
       "      <th></th>\n",
       "    </tr>\n",
       "  </thead>\n",
       "  <tbody>\n",
       "    <tr>\n",
       "      <th>0</th>\n",
       "      <td>310</td>\n",
       "      <td>310</td>\n",
       "      <td>310</td>\n",
       "      <td>310</td>\n",
       "      <td>310</td>\n",
       "      <td>310</td>\n",
       "    </tr>\n",
       "    <tr>\n",
       "      <th>1</th>\n",
       "      <td>34</td>\n",
       "      <td>34</td>\n",
       "      <td>34</td>\n",
       "      <td>34</td>\n",
       "      <td>34</td>\n",
       "      <td>34</td>\n",
       "    </tr>\n",
       "  </tbody>\n",
       "</table>\n",
       "</div>"
      ],
      "text/plain": [
       "        open  high  low  close  volume  y_test\n",
       "y_pred                                        \n",
       "0        310   310  310    310     310     310\n",
       "1         34    34   34     34      34      34"
      ]
     },
     "execution_count": 438,
     "metadata": {},
     "output_type": "execute_result"
    }
   ],
   "source": [
    "historical_price_prediction_data.groupby('y_pred').count()"
   ]
  },
  {
   "cell_type": "markdown",
   "metadata": {},
   "source": [
    "# 3. Backtest"
   ]
  },
  {
   "cell_type": "code",
   "execution_count": 448,
   "metadata": {},
   "outputs": [
    {
     "name": "stdout",
     "output_type": "stream",
     "text": [
      "\n",
      "=================TRADING HISTORY==================\n",
      "2019-11-25 to 2020-10-3\n",
      "\n",
      "Number of entries made:  34\n",
      "Number of losing trades:  32\n",
      "Expected value per trade:  -70.55734001608457\n",
      "Max_drawdown:  -123.59056640625\n",
      "Cumulative loss:  -3195.655615234375\n",
      "Average loss:  -99.86423797607424\n",
      "Average gain:  398.35302734375\n",
      "\n",
      "Overall gain:  -2398.9495605468746\n"
     ]
    },
    {
     "data": {
      "image/png": "[encoded data removed]",
      "text/plain": [
       "<Figure size 1080x504 with 3 Axes>"
      ]
     },
     "metadata": {},
     "output_type": "display_data"
    }
   ],
   "source": [
    "plt.rcParams['figure.figsize'] = 15, 7\n",
    "bt = Backtester(historical_price_prediction_data, 1, 'buy', price_change_threshold)\n",
    "bt.nominal_stop_loss = 0\n",
    "bt.percentage_stop_loss = 0.01\n",
    "\n",
    "bt.simulate_trades_corrected()\n",
    "bt.visualize_trades()"
   ]
  },
  {
   "cell_type": "code",
   "execution_count": 449,
   "metadata": {},
   "outputs": [
    {
     "name": "stdout",
     "output_type": "stream",
     "text": [
      "Overall gain B&H: 3380.93408203125\n"
     ]
    }
   ],
   "source": [
    "#comparison to a buy and hold lol...\n",
    "print(f'''Overall gain B&H: {historical_price_prediction_data[\"high\"].iloc[-1] \n",
    "- historical_price_prediction_data[\"high\"].iloc[0]}''')"
   ]
  },
  {
   "cell_type": "code",
   "execution_count": 450,
   "metadata": {},
   "outputs": [
    {
     "data": {
      "text/html": [
       "<div>\n",
       "<style scoped>\n",
       "    .dataframe tbody tr th:only-of-type {\n",
       "        vertical-align: middle;\n",
       "    }\n",
       "\n",
       "    .dataframe tbody tr th {\n",
       "        vertical-align: top;\n",
       "    }\n",
       "\n",
       "    .dataframe thead th {\n",
       "        text-align: right;\n",
       "    }\n",
       "</style>\n",
       "<table border=\"1\" class=\"dataframe\">\n",
       "  <thead>\n",
       "    <tr style=\"text-align: right;\">\n",
       "      <th></th>\n",
       "      <th>open</th>\n",
       "      <th>high</th>\n",
       "      <th>low</th>\n",
       "      <th>close</th>\n",
       "      <th>volume</th>\n",
       "      <th>y_pred</th>\n",
       "      <th>y_test</th>\n",
       "      <th>price_today</th>\n",
       "      <th>price_next_period</th>\n",
       "      <th>eod_price_next_period</th>\n",
       "      <th>predicted_price</th>\n",
       "      <th>actual_price_change</th>\n",
       "      <th>predicted_price_change</th>\n",
       "      <th>net_gain</th>\n",
       "      <th>lowest_price_next_period</th>\n",
       "      <th>portfolio_value</th>\n",
       "      <th>decision_outcome</th>\n",
       "      <th>actual_outcome</th>\n",
       "    </tr>\n",
       "  </thead>\n",
       "  <tbody>\n",
       "    <tr>\n",
       "      <th>2020-03-19</th>\n",
       "      <td>5245.416504</td>\n",
       "      <td>6329.735840</td>\n",
       "      <td>5236.968750</td>\n",
       "      <td>6191.192871</td>\n",
       "      <td>5.100073e+10</td>\n",
       "      <td>1</td>\n",
       "      <td>1</td>\n",
       "      <td>6329.735840</td>\n",
       "      <td>6844.261719</td>\n",
       "      <td>6198.778320</td>\n",
       "      <td>6709.519990</td>\n",
       "      <td>514.525879</td>\n",
       "      <td>379.784150</td>\n",
       "      <td>-63.297358</td>\n",
       "      <td>5865.781738</td>\n",
       "      <td>-35.993843</td>\n",
       "      <td>6329.735840</td>\n",
       "      <td>6329.735840</td>\n",
       "    </tr>\n",
       "    <tr>\n",
       "      <th>2020-04-28</th>\n",
       "      <td>7806.712402</td>\n",
       "      <td>8871.753906</td>\n",
       "      <td>7786.049316</td>\n",
       "      <td>8801.038086</td>\n",
       "      <td>6.020105e+10</td>\n",
       "      <td>1</td>\n",
       "      <td>1</td>\n",
       "      <td>8871.753906</td>\n",
       "      <td>9440.650391</td>\n",
       "      <td>8658.553711</td>\n",
       "      <td>9404.059141</td>\n",
       "      <td>568.896484</td>\n",
       "      <td>532.305234</td>\n",
       "      <td>-88.717539</td>\n",
       "      <td>8533.255859</td>\n",
       "      <td>-336.754287</td>\n",
       "      <td>8871.753906</td>\n",
       "      <td>8871.753906</td>\n",
       "    </tr>\n",
       "    <tr>\n",
       "      <th>2020-05-05</th>\n",
       "      <td>9007.441406</td>\n",
       "      <td>9411.467773</td>\n",
       "      <td>8966.706055</td>\n",
       "      <td>9268.761719</td>\n",
       "      <td>4.937189e+10</td>\n",
       "      <td>1</td>\n",
       "      <td>1</td>\n",
       "      <td>9411.467773</td>\n",
       "      <td>9992.664062</td>\n",
       "      <td>9951.518555</td>\n",
       "      <td>9976.155840</td>\n",
       "      <td>581.196289</td>\n",
       "      <td>564.688066</td>\n",
       "      <td>-94.114678</td>\n",
       "      <td>9138.322266</td>\n",
       "      <td>-616.953281</td>\n",
       "      <td>9411.467773</td>\n",
       "      <td>9411.467773</td>\n",
       "    </tr>\n",
       "    <tr>\n",
       "      <th>2020-07-25</th>\n",
       "      <td>9680.234375</td>\n",
       "      <td>10023.807617</td>\n",
       "      <td>9652.847656</td>\n",
       "      <td>9905.166992</td>\n",
       "      <td>2.050800e+10</td>\n",
       "      <td>1</td>\n",
       "      <td>1</td>\n",
       "      <td>10023.807617</td>\n",
       "      <td>11298.221680</td>\n",
       "      <td>10990.873047</td>\n",
       "      <td>10625.236074</td>\n",
       "      <td>1274.414062</td>\n",
       "      <td>601.428457</td>\n",
       "      <td>-100.238076</td>\n",
       "      <td>9903.969727</td>\n",
       "      <td>-991.356621</td>\n",
       "      <td>10023.807617</td>\n",
       "      <td>10023.807617</td>\n",
       "    </tr>\n",
       "  </tbody>\n",
       "</table>\n",
       "</div>"
      ],
      "text/plain": [
       "                   open          high          low        close        volume  \\\n",
       "2020-03-19  5245.416504   6329.735840  5236.968750  6191.192871  5.100073e+10   \n",
       "2020-04-28  7806.712402   8871.753906  7786.049316  8801.038086  6.020105e+10   \n",
       "2020-05-05  9007.441406   9411.467773  8966.706055  9268.761719  4.937189e+10   \n",
       "2020-07-25  9680.234375  10023.807617  9652.847656  9905.166992  2.050800e+10   \n",
       "\n",
       "            y_pred  y_test   price_today  price_next_period  \\\n",
       "2020-03-19       1       1   6329.735840        6844.261719   \n",
       "2020-04-28       1       1   8871.753906        9440.650391   \n",
       "2020-05-05       1       1   9411.467773        9992.664062   \n",
       "2020-07-25       1       1  10023.807617       11298.221680   \n",
       "\n",
       "            eod_price_next_period  predicted_price  actual_price_change  \\\n",
       "2020-03-19            6198.778320      6709.519990           514.525879   \n",
       "2020-04-28            8658.553711      9404.059141           568.896484   \n",
       "2020-05-05            9951.518555      9976.155840           581.196289   \n",
       "2020-07-25           10990.873047     10625.236074          1274.414062   \n",
       "\n",
       "            predicted_price_change    net_gain  lowest_price_next_period  \\\n",
       "2020-03-19              379.784150  -63.297358               5865.781738   \n",
       "2020-04-28              532.305234  -88.717539               8533.255859   \n",
       "2020-05-05              564.688066  -94.114678               9138.322266   \n",
       "2020-07-25              601.428457 -100.238076               9903.969727   \n",
       "\n",
       "            portfolio_value  decision_outcome  actual_outcome  \n",
       "2020-03-19       -35.993843       6329.735840     6329.735840  \n",
       "2020-04-28      -336.754287       8871.753906     8871.753906  \n",
       "2020-05-05      -616.953281       9411.467773     9411.467773  \n",
       "2020-07-25      -991.356621      10023.807617    10023.807617  "
      ]
     },
     "execution_count": 450,
     "metadata": {},
     "output_type": "execute_result"
    }
   ],
   "source": [
    "bt.trade_record[(bt.trade_record.y_test == 1) &  (bt.trade_record.y_pred == 1)]"
   ]
  },
  {
   "cell_type": "code",
   "execution_count": null,
   "metadata": {},
   "outputs": [],
   "source": []
  }
 ],
 "metadata": {
  "kernelspec": {
   "display_name": "Python 3",
   "language": "python",
   "name": "python3"
  },
  "language_info": {
   "codemirror_mode": {
    "name": "ipython",
    "version": 3
   },
   "file_extension": ".py",
   "mimetype": "text/x-python",
   "name": "python",
   "nbconvert_exporter": "python",
   "pygments_lexer": "ipython3",
   "version": "3.7.4"
  }
 },
 "nbformat": 4,
 "nbformat_minor": 2
}
